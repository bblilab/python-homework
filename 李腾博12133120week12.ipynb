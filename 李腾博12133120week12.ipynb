{
 "cells": [
  {
   "cell_type": "code",
   "execution_count": 100,
   "id": "b039565a",
   "metadata": {},
   "outputs": [
    {
     "name": "stderr",
     "output_type": "stream",
     "text": [
      "WARNING:param.ParamFunction34283: The function supplied for Panel to display was declared with `watch=True`, which will cause the function to be called twice for any change in a dependent Parameter. `watch` should be False when Panel is responsible for displaying the result of the function call, while `watch=True` should be reserved for functions that work via side-effects, e.g. by modifying internal  state of a class or global state in an application's namespace.\n",
      "WARNING:param.ParamFunction34377: The function supplied for Panel to display was declared with `watch=True`, which will cause the function to be called twice for any change in a dependent Parameter. `watch` should be False when Panel is responsible for displaying the result of the function call, while `watch=True` should be reserved for functions that work via side-effects, e.g. by modifying internal  state of a class or global state in an application's namespace.\n"
     ]
    },
    {
     "name": "stdout",
     "output_type": "stream",
     "text": [
      "Launching server at http://localhost:51302\n"
     ]
    },
    {
     "data": {
      "text/plain": [
       "<bokeh.server.server.Server at 0x11e15958>"
      ]
     },
     "execution_count": 100,
     "metadata": {},
     "output_type": "execute_result"
    }
   ],
   "source": [
    "import numpy as np\n",
    "import hvplot.pandas\n",
    "import hvplot as hv\n",
    "import seaborn as sns\n",
    "import matplotlib.pyplot as plt\n",
    "import panel as pn\n",
    "import pandas as pd\n",
    "\n",
    "#打开文件\n",
    "df=pd.read_csv('world_wide_COVID_data_daily_data.csv')\n",
    "\n",
    "#聚类country continents，重复的只取一个\n",
    "list_of_countries=df['countriesAndTerritories'].to_list()\n",
    "list_of_countries=sorted(list(set(list_of_countries)))\n",
    "list_of_continents=df['continentExp'].to_list()\n",
    "list_of_continents=sorted(list(set(list_of_continents)))\n",
    "\n",
    "#写模块\n",
    "countries=pn.widgets.MultiSelect(name='Countries',options=list_of_countries) \n",
    "months=pn.widgets.IntRangeSlider(name='Months',start=1, end=12, value=(1,2), step=1)\n",
    "continents=pn.widgets.MultiSelect(name='Coutinents',options=list_of_continents)\n",
    "z=pn.widgets.RadioButtonGroup(name=\"Data to plot\", options=['cases', 'deaths'])\n",
    "\n",
    "#设置关联，画图。按照选定的大洲，国家，选定的月份将特定数据取出来，进行画图，运用.isin()\n",
    "@pn.depends(continents,watch=True)\n",
    "def update_countries(continents):\n",
    "    df_select = df[df['continentExp'].isin(continents)]\n",
    "    countries.options = sorted(df_select['countriesAndTerritories'].unique().tolist())\n",
    "@pn.depends(countries,months,z,watch=True)\n",
    "def make_plot(countries,months,z):\n",
    "    df_countries=df[df['countriesAndTerritories'].isin(countries)]\n",
    "    df_countries=df_countries[df_countries['month'].isin(range(months[0],months[1]))]\n",
    "    plot=df_countries.hvplot(x='dateRep',y=z,width=400)\n",
    "    return plot\n",
    "\n",
    "#设置关联，做表。\n",
    "@pn.depends(countries,months,z,watch=True)\n",
    "def make_table(countries,months,z):\n",
    "    df_countries=df[df['countriesAndTerritories'].isin(countries)]\n",
    "    df_countries=df_countries[df_countries['month'].isin(range(months[0],months[1]))]\n",
    "    table=df_countries.hvplot.table()\n",
    "    return table\n",
    "\n",
    "#输出检验\n",
    "pn.Row(pn.WidgetBox(continents,countries,months,width=200),make_plot,make_table).show()\n",
    "\n"
   ]
  },
  {
   "cell_type": "code",
   "execution_count": 101,
   "id": "c5dcf090",
   "metadata": {},
   "outputs": [
    {
     "name": "stderr",
     "output_type": "stream",
     "text": [
      "WARNING:param.ParamFunction34602: The function supplied for Panel to display was declared with `watch=True`, which will cause the function to be called twice for any change in a dependent Parameter. `watch` should be False when Panel is responsible for displaying the result of the function call, while `watch=True` should be reserved for functions that work via side-effects, e.g. by modifying internal  state of a class or global state in an application's namespace.\n",
      "WARNING:param.ParamFunction34696: The function supplied for Panel to display was declared with `watch=True`, which will cause the function to be called twice for any change in a dependent Parameter. `watch` should be False when Panel is responsible for displaying the result of the function call, while `watch=True` should be reserved for functions that work via side-effects, e.g. by modifying internal  state of a class or global state in an application's namespace.\n"
     ]
    }
   ],
   "source": [
    "#template\n",
    "template=pn.template.FastListTemplate(site='python homework',title='world wide COVID data',\n",
    "                                       sidebar=[\"##Settings\",continents,countries,months],\n",
    "                                       main=['main plot',make_plot,make_table]).servable"
   ]
  },
  {
   "cell_type": "code",
   "execution_count": null,
   "id": "2bb0a7a0",
   "metadata": {},
   "outputs": [],
   "source": []
  }
 ],
 "metadata": {
  "kernelspec": {
   "display_name": "Python 3",
   "language": "python",
   "name": "python3"
  },
  "language_info": {
   "codemirror_mode": {
    "name": "ipython",
    "version": 3
   },
   "file_extension": ".py",
   "mimetype": "text/x-python",
   "name": "python",
   "nbconvert_exporter": "python",
   "pygments_lexer": "ipython3",
   "version": "3.8.8"
  }
 },
 "nbformat": 4,
 "nbformat_minor": 5
}
